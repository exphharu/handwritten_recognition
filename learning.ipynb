{
 "cells": [
  {
   "cell_type": "code",
   "execution_count": 18,
   "metadata": {},
   "outputs": [],
   "source": [
    "import numpy as np\n",
    "import pandas as pd\n",
    "from sklearn.model_selection import train_test_split\n",
    "import matplotlib.pyplot as plt\n",
    "import pickle\n",
    "\n",
    "#from calclation import RMSProp\n",
    "from calclation import Adam\n",
    "from network import main_network\n",
    "\n",
    "import data_augmentation"
   ]
  },
  {
   "cell_type": "markdown",
   "metadata": {},
   "source": [
    "### Numpyを用いてデータ拡張をおこない学習する\n",
    "\n",
    "data_augmentation.pyにまとめてあります。\n",
    "random_erasingについては、実装したもののあまり効果が得られず使いませんでした"
   ]
  },
  {
   "cell_type": "code",
   "execution_count": 20,
   "metadata": {},
   "outputs": [],
   "source": [
    "train_data = np.load(\"/Users/sawaki/skill-up-ai/train_data.npy\")\n",
    "train_label = np.load(\"/Users/sawaki/skill-up-ai/train_label.npy\")\n",
    "train_data = train_data.astype('float32')\n",
    "train_data = train_data / train_data.max()"
   ]
  },
  {
   "cell_type": "code",
   "execution_count": 30,
   "metadata": {},
   "outputs": [],
   "source": [
    "epochs = 4\n",
    "batch_size = 32\n",
    "loop = 4\n"
   ]
  },
  {
   "cell_type": "code",
   "execution_count": 5,
   "metadata": {},
   "outputs": [],
   "source": [
    "# network\n",
    "optimizer = Adam()\n",
    "network = main_network()"
   ]
  },
  {
   "cell_type": "code",
   "execution_count": 22,
   "metadata": {},
   "outputs": [],
   "source": [
    "# loss/accuracy\n",
    "train_loss = []\n",
    "test_loss = []\n",
    "train_acc = []\n",
    "test_acc = []"
   ]
  },
  {
   "cell_type": "code",
   "execution_count": 35,
   "metadata": {},
   "outputs": [
    {
     "name": "stderr",
     "output_type": "stream",
     "text": [
      "/var/folders/v6/0z_kylj93ll5z4_htn4grf000000gn/T/ipykernel_5670/3072916224.py:17: DeprecationWarning: `np.int` is a deprecated alias for the builtin `int`. To silence this warning, use `int` by itself. Doing this will not modify any behavior and is safe. When replacing `np.int`, you may wish to use e.g. `np.int64` or `np.int32` to specify the precision. If you wish to review your current use, check the release note link for additional information.\n",
      "Deprecated in NumPy 1.20; for more details and guidance: https://numpy.org/devdocs/release/1.20.0-notes.html#deprecations\n",
      "  iteration = np.ceil(xsize / batch_size).astype(np.int)\n",
      "/Users/sawaki/miniforge3/envs/pose/lib/python3.8/site-packages/keras_preprocessing/image/numpy_array_iterator.py:129: UserWarning: NumpyArrayIterator is set to use the data format convention \"channels_last\" (channels on axis 3), i.e. expected either 1, 3, or 4 channels on axis 3. However, it was passed an array with shape (32, 1, 28, 28) (28 channels).\n",
      "  warnings.warn('NumpyArrayIterator is set to use the '\n"
     ]
    },
    {
     "name": "stdout",
     "output_type": "stream",
     "text": [
      "epoch = 0-0\n"
     ]
    },
    {
     "name": "stderr",
     "output_type": "stream",
     "text": [
      "/Users/sawaki/miniforge3/envs/pose/lib/python3.8/site-packages/keras_preprocessing/image/numpy_array_iterator.py:129: UserWarning: NumpyArrayIterator is set to use the data format convention \"channels_last\" (channels on axis 3), i.e. expected either 1, 3, or 4 channels on axis 3. However, it was passed an array with shape (20, 1, 28, 28) (28 channels).\n",
      "  warnings.warn('NumpyArrayIterator is set to use the '\n"
     ]
    },
    {
     "name": "stdout",
     "output_type": "stream",
     "text": [
      "0.9744444444444444\n",
      "epoch = 0-1\n",
      "0.9844444444444445\n",
      "epoch = 0-2\n",
      "0.9933333333333333\n",
      "epoch = 0-3\n",
      "0.9922222222222222\n",
      "epoch = 1-0\n",
      "0.9911111111111112\n",
      "epoch = 1-1\n",
      "0.9922222222222222\n",
      "epoch = 1-2\n",
      "0.9944444444444445\n",
      "epoch = 1-3\n",
      "0.9977777777777778\n",
      "epoch = 2-0\n",
      "0.9988888888888889\n",
      "epoch = 2-1\n",
      "0.9855555555555555\n",
      "epoch = 2-2\n",
      "0.9722222222222222\n",
      "epoch = 2-3\n",
      "0.9977777777777778\n",
      "epoch = 3-0\n",
      "0.9988888888888889\n",
      "epoch = 3-1\n",
      "1.0\n",
      "epoch = 3-2\n",
      "1.0\n",
      "epoch = 3-3\n",
      "0.9977777777777778\n"
     ]
    }
   ],
   "source": [
    "for i in range(loop):\n",
    "    #split data into train/test \n",
    "    train, test, train_labels, test_labels = train_test_split(train_data, train_label, test_size=0.3,shuffle=True)\n",
    "\n",
    "    #data augmentation by rotating image\n",
    "    #train = data_augmentation.rotation_crop(train, angle_range=(-20, 20))\n",
    "    train = data_augmentation.redpad_rotation_crop(train, angle_range=(-15, 15))\n",
    "\n",
    "    train = train.reshape(-1, 1, 28, 28)\n",
    "    test = test.reshape(-1, 1, 28, 28)\n",
    "    x = train\n",
    "    t = train_labels\n",
    "\n",
    "    # iteration\n",
    "    xsize = x.shape[0]\n",
    "    #print(xsize)\n",
    "    iteration = np.ceil(xsize / batch_size).astype(np.int)\n",
    "\n",
    "    #x = x.reshape(-1,1,28,28)\n",
    "    for epoch in range(epochs):\n",
    "        print(\"epoch = {0}-{1}\".format(i,epoch))\n",
    "\n",
    "        # shuffling data\n",
    "        index = np.arange(xsize)\n",
    "        np.random.shuffle(index)\n",
    "        #print(index)\n",
    "\n",
    "        for iter in range(iteration):\n",
    "            #print(\"iter=\", iter)\n",
    "            # Extract the corresponding index\n",
    "            corr_index = index[batch_size*iter : batch_size*(iter+1)]\n",
    "\n",
    "            # mini batch\n",
    "            x_train = x[corr_index]\n",
    "            t_train = t[corr_index]\n",
    "\n",
    "\n",
    "            batches = x_train\n",
    "\n",
    "            #print(batches.shape, t_train.shape)\n",
    "\n",
    "            # forward/back propagation \n",
    "            grads = network.gradient(batches, t_train)\n",
    "\n",
    "            # update\n",
    "            optimizer.update(network.params, grads)\n",
    "\n",
    "\n",
    "\n",
    "        # traindata\n",
    "        # calc loss   \n",
    "        train_loss.append(network.loss(x,  t))\n",
    "        # calc acc\n",
    "        train_acc.append(network.accuracy(x, t))\n",
    "\n",
    "        # testdata\n",
    "        # calc loss\n",
    "        test_loss.append(network.loss(test, test_labels))\n",
    "        # calc acc\n",
    "        test_acc.append(network.accuracy(test, test_labels))\n",
    "        print(network.accuracy(test, test_labels))\n",
    "        if network.accuracy(test, test_labels) > 0.993:\n",
    "            with open(\"katakana_model_K{0}.pickle\".format(network.accuracy(test, test_labels)), \"wb\") as f:\n",
    "                pickle.dump(network, f)"
   ]
  },
  {
   "cell_type": "code",
   "execution_count": 36,
   "metadata": {},
   "outputs": [
    {
     "name": "stdout",
     "output_type": "stream",
     "text": [
      "[0.9914285714285714, 0.9961904761904762, 0.9923809523809524, 0.9942857142857143, 0.9985714285714286, 0.9995238095238095, 0.9957142857142857, 0.9957142857142857, 0.9976190476190476, 0.991904761904762, 0.9942857142857143, 0.9995238095238095, 0.9971428571428571, 0.9985714285714286, 0.9814285714285714, 0.9976190476190476, 0.9961904761904762, 0.9971428571428571, 0.9980952380952381, 0.9990476190476191, 0.9957142857142857, 0.9966666666666667, 0.9957142857142857, 0.9990476190476191, 0.9947619047619047, 0.9980952380952381, 0.9990476190476191, 0.9833333333333333, 0.9985714285714286, 0.9976190476190476, 0.9976190476190476, 0.9995238095238095, 0.9980952380952381, 0.9980952380952381, 0.9976190476190476, 0.9938095238095238, 0.9971428571428571, 0.9985714285714286, 0.9980952380952381, 0.9990476190476191, 0.9995238095238095, 0.9976190476190476, 0.9971428571428571, 0.9995238095238095, 1.0, 0.9995238095238095, 0.9985714285714286, 0.9957142857142857, 0.9980952380952381, 0.9961904761904762, 0.9985714285714286, 0.9980952380952381, 0.9990476190476191, 0.9995238095238095, 0.9985714285714286, 0.9995238095238095, 0.9961904761904762, 0.9985714285714286, 0.9971428571428571, 0.9976190476190476, 0.9985714285714286, 0.9980952380952381, 0.9995238095238095, 0.9995238095238095, 0.9123809523809524, 0.9728571428571429, 0.981904761904762, 0.9704761904761905, 0.9557142857142857, 0.9680952380952381, 0.9738095238095238, 0.9847619047619047, 0.9580952380952381, 0.9866666666666667, 0.9861904761904762, 0.9947619047619047, 0.9652380952380952, 0.9619047619047619, 0.9842857142857143, 0.9814285714285714, 0.9828571428571429, 0.9871428571428571, 0.9909523809523809, 0.9966666666666667, 0.991904761904762, 0.9985714285714286, 0.9961904761904762, 0.9990476190476191, 0.9976190476190476, 0.9923809523809524, 0.9823809523809524, 0.9985714285714286, 0.9980952380952381, 0.9990476190476191, 0.9990476190476191, 0.9995238095238095]\n"
     ]
    }
   ],
   "source": [
    "print(train_acc)"
   ]
  },
  {
   "cell_type": "code",
   "execution_count": 37,
   "metadata": {},
   "outputs": [
    {
     "name": "stdout",
     "output_type": "stream",
     "text": [
      "[0.9833333333333333, 0.9944444444444445, 0.9811111111111112, 0.9822222222222222, 0.9955555555555555, 0.9911111111111112, 0.9811111111111112, 0.9911111111111112, 0.9933333333333333, 0.9888888888888889, 0.9833333333333333, 0.9955555555555555, 0.9966666666666667, 0.9944444444444445, 0.9722222222222222, 0.9922222222222222, 0.9944444444444445, 0.9955555555555555, 0.9955555555555555, 0.9955555555555555, 0.9911111111111112, 0.99, 0.9955555555555555, 0.9955555555555555, 0.9944444444444445, 0.9988888888888889, 0.9955555555555555, 0.98, 0.9944444444444445, 0.9944444444444445, 0.9911111111111112, 0.9922222222222222, 0.9988888888888889, 0.9977777777777778, 0.9922222222222222, 0.9922222222222222, 0.9866666666666667, 0.9933333333333333, 0.9944444444444445, 0.9966666666666667, 0.9933333333333333, 0.9944444444444445, 0.9955555555555555, 0.9955555555555555, 0.9944444444444445, 0.9955555555555555, 0.9888888888888889, 0.9866666666666667, 0.99, 0.9933333333333333, 0.9933333333333333, 0.9944444444444445, 0.9977777777777778, 0.9955555555555555, 0.9955555555555555, 0.9922222222222222, 0.9888888888888889, 0.9955555555555555, 0.9911111111111112, 0.9966666666666667, 0.9966666666666667, 0.9966666666666667, 0.9977777777777778, 0.9966666666666667, 0.9655555555555555, 0.9855555555555555, 0.9844444444444445, 0.98, 0.9922222222222222, 0.9833333333333333, 0.9788888888888889, 0.9777777777777777, 0.98, 0.9733333333333334, 0.9711111111111111, 0.9777777777777777, 0.9733333333333334, 0.9788888888888889, 0.98, 0.9766666666666667, 0.9744444444444444, 0.9844444444444445, 0.9933333333333333, 0.9922222222222222, 0.9911111111111112, 0.9922222222222222, 0.9944444444444445, 0.9977777777777778, 0.9988888888888889, 0.9855555555555555, 0.9722222222222222, 0.9977777777777778, 0.9988888888888889, 1.0, 1.0, 0.9977777777777778]\n"
     ]
    }
   ],
   "source": [
    "print(test_acc)"
   ]
  },
  {
   "cell_type": "code",
   "execution_count": 34,
   "metadata": {},
   "outputs": [
    {
     "name": "stdout",
     "output_type": "stream",
     "text": [
      "0.9773333333333334\n"
     ]
    }
   ],
   "source": [
    "test_acc_rev = list(reversed(test_acc))\n",
    "#print(test_acc_rev)\n",
    "\n",
    "num = 5\n",
    "sum = 0.0\n",
    "acc_ave = 0.0\n",
    "for i in range(num):\n",
    "    sum += test_acc_rev[i]\n",
    "\n",
    "acc_ave = sum/num    \n",
    "print(acc_ave)\n"
   ]
  },
  {
   "cell_type": "markdown",
   "metadata": {},
   "source": [
    "epochs = 8, \n",
    "batch_size = 32, \n",
    "lr = 0.01, \n",
    "loop = 8, \n",
    "angle_range=(-15, 15)\n",
    "\n",
    "- average of test_acc (last 5 epoch) is 0.9748 \n",
    "\n",
    "epochs = 8, \n",
    "batch_size = 32, \n",
    "lr = 0.01, \n",
    "loop = 8, \n",
    "angle_range=(-15, 15)\n",
    "random erasing\n",
    "\n",
    "- average of test_acc (last 5 epoch) is 0.9593\n",
    "\n",
    "epochs = 8\n",
    "batch_size = 32\n",
    "lr = 0.01\n",
    "loop = 8\n",
    "angle_range=(-10, 10)\n",
    "\n",
    "- average of test_acc (last 5 epoch) is 0.9724 \n",
    "\n",
    "epochs = 8\n",
    "batch_size = 32\n",
    "lr = 0.01\n",
    "loop = 8\n",
    "angle_range=(-20, 20)\n",
    "\n",
    "- average of test_acc (last 5 epoch) is 0.9566 \n",
    "\n",
    "\n",
    "epochs = 8\n",
    "batch_size = 32\n",
    "lr = 0.01\n",
    "loop = 8\n",
    "angle_range=(-10, 10)\n",
    "クッキリあり\n",
    "\n",
    "- average of test_acc (last 5 epoch) is 0.9073 \n",
    "\n",
    "epochs = 4,\n",
    "batch_size = 32,\n",
    "lr = 0.01,\n",
    "loop = 16,\n",
    "angle_range=(-15, 15)\n",
    "\n",
    "- average of test_acc (last 5 epoch) is 0.9631 "
   ]
  },
  {
   "cell_type": "code",
   "execution_count": 38,
   "metadata": {},
   "outputs": [],
   "source": [
    "with open(\"katakana_model_best2.pickle\", \"wb\") as f:\n",
    "    pickle.dump(network, f)"
   ]
  }
 ],
 "metadata": {
  "kernelspec": {
   "display_name": "Python 3.8.13 ('pose')",
   "language": "python",
   "name": "python3"
  },
  "language_info": {
   "codemirror_mode": {
    "name": "ipython",
    "version": 3
   },
   "file_extension": ".py",
   "mimetype": "text/x-python",
   "name": "python",
   "nbconvert_exporter": "python",
   "pygments_lexer": "ipython3",
   "version": "3.8.13"
  },
  "orig_nbformat": 4,
  "vscode": {
   "interpreter": {
    "hash": "7baf39d11e8c78c14b0cd083923d6b37471a1e9215060b64c4b700e4d68de6e5"
   }
  }
 },
 "nbformat": 4,
 "nbformat_minor": 2
}
