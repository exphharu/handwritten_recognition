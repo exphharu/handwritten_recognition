{
 "cells": [
  {
   "cell_type": "code",
   "execution_count": 1,
   "metadata": {},
   "outputs": [],
   "source": [
    "import random\n",
    "from PIL import Image\n",
    "import numpy as np\n",
    "import cv2\n",
    "import Augmentor\n",
    "import matplotlib.pyplot as plt\n",
    "from IPython.display import display\n",
    "import glob\n",
    "import os,sys\n",
    "from sklearn.preprocessing import LabelBinarizer"
   ]
  },
  {
   "cell_type": "code",
   "execution_count": 2,
   "metadata": {},
   "outputs": [],
   "source": [
    "train_data = np.load(\"/Users/sawaki/skill-up-ai/train_data.npy\")\n",
    "train_label = np.load(\"/Users/sawaki/skill-up-ai/train_label.npy\")\n",
    "train_data = train_data.astype('float32')\n",
    "train_data = train_data / train_data.max()"
   ]
  },
  {
   "cell_type": "code",
   "execution_count": 27,
   "metadata": {},
   "outputs": [
    {
     "data": {
      "text/plain": [
       "(3000, 1, 28, 28)"
      ]
     },
     "execution_count": 27,
     "metadata": {},
     "output_type": "execute_result"
    }
   ],
   "source": [
    "train_data.shape"
   ]
  },
  {
   "cell_type": "code",
   "execution_count": 28,
   "metadata": {},
   "outputs": [
    {
     "data": {
      "text/plain": [
       "array([[0, 0, 0, ..., 0, 1, 0],\n",
       "       [0, 0, 0, ..., 0, 1, 0],\n",
       "       [0, 0, 0, ..., 0, 1, 0],\n",
       "       ...,\n",
       "       [0, 0, 0, ..., 0, 0, 0],\n",
       "       [0, 0, 0, ..., 0, 0, 0],\n",
       "       [0, 0, 0, ..., 0, 0, 0]], dtype=int32)"
      ]
     },
     "execution_count": 28,
     "metadata": {},
     "output_type": "execute_result"
    }
   ],
   "source": [
    "train_label"
   ]
  },
  {
   "cell_type": "code",
   "execution_count": 29,
   "metadata": {},
   "outputs": [
    {
     "name": "stdout",
     "output_type": "stream",
     "text": [
      "[0 0 0 0 0 0 0 0 0 0 0 0 0 1 0]\n"
     ]
    },
    {
     "data": {
      "image/png": "[encoded data removed]",
      "text/plain": [
       "<Figure size 432x288 with 1 Axes>"
      ]
     },
     "metadata": {
      "needs_background": "light"
     },
     "output_type": "display_data"
    },
    {
     "name": "stdout",
     "output_type": "stream",
     "text": [
      "<class 'numpy.ndarray'>\n",
      "(1, 28, 28)\n"
     ]
    }
   ],
   "source": [
    "ind = 0\n",
    "num = np.where(train_label[ind])[0][0]\n",
    "img = train_data[ind]\n",
    "label = train_label[ind]    \n",
    "print(label)\n",
    "plt.imshow(img[0,:,:], cmap='gray')\n",
    "plt.show()\n",
    "\n",
    "print(type(img))\n",
    "print(img.shape)"
   ]
  },
  {
   "cell_type": "markdown",
   "metadata": {},
   "source": [
    "# 以下ではnumpyを使ってData Augmentationを行う"
   ]
  },
  {
   "cell_type": "code",
   "execution_count": 87,
   "metadata": {},
   "outputs": [
    {
     "data": {
      "text/plain": [
       "<matplotlib.image.AxesImage at 0x17c1b3220>"
      ]
     },
     "execution_count": 87,
     "metadata": {},
     "output_type": "execute_result"
    },
    {
     "data": {
      "image/png": "[encoded data removed]",
      "text/plain": [
       "<Figure size 432x288 with 1 Axes>"
      ]
     },
     "metadata": {
      "needs_background": "light"
     },
     "output_type": "display_data"
    }
   ],
   "source": [
    "img = train_data[0:3]\n",
    "img.shape\n",
    "plt.imshow(img[2][0], cmap='gray')"
   ]
  },
  {
   "cell_type": "code",
   "execution_count": 88,
   "metadata": {},
   "outputs": [
    {
     "name": "stdout",
     "output_type": "stream",
     "text": [
      "(1, 56, 56)\n"
     ]
    },
    {
     "data": {
      "text/plain": [
       "<matplotlib.image.AxesImage at 0x17c289460>"
      ]
     },
     "execution_count": 88,
     "metadata": {},
     "output_type": "execute_result"
    },
    {
     "data": {
      "image/png": "[encoded data removed]",
      "text/plain": [
       "<Figure size 432x288 with 1 Axes>"
      ]
     },
     "metadata": {
      "needs_background": "light"
     },
     "output_type": "display_data"
    }
   ],
   "source": [
    "#画像を2倍に拡大\n",
    "img = train_data[3]\n",
    "img2 = img.repeat(2, axis=1).repeat(2, axis=2)\n",
    "print(img2.shape)\n",
    "plt.imshow(img2[0,:,:], cmap='gray')"
   ]
  },
  {
   "cell_type": "code",
   "execution_count": 175,
   "metadata": {},
   "outputs": [],
   "source": [
    "#affine変換によるリサイズ用def文\n",
    "def resize_affine(image,ratio):\n",
    "    #引数に倍率とイメージ（ndarray）を渡す\n",
    "    img = image\n",
    "    #print(img.shape)\n",
    "    img = img.transpose(1,2,0)\n",
    "    #print(img.shape)\n",
    "    h, w = img.shape[:2]\n",
    "    #print('input size : {0}x{1}'.format(h, w))\n",
    "\n",
    "    src = np.array([[0.0, 0.0],[0.0, 1.0],[1.0, 0.0]], np.float32)\n",
    "    dest = src * ratio\n",
    "    affine = cv2.getAffineTransform(src, dest)\n",
    "    #print('output size : {0}x{1}'.format(int(float(w)*ratio), int(float(h)*ratio)))\n",
    "\n",
    "    \n",
    "    img2 = cv2.warpAffine(img, affine, (int(float(w)*ratio), int(float(h)*ratio)), cv2.INTER_LANCZOS4)\n",
    "    #print(img2.shape)\n",
    "\n",
    "    # 1次元目が消えちゃうので追加して元のshape (1, h, w)に戻す\n",
    "    img3 = img2[np.newaxis, :, :]\n",
    "    print(img3.shape)\n",
    "    return img3"
   ]
  },
  {
   "cell_type": "code",
   "execution_count": 96,
   "metadata": {},
   "outputs": [
    {
     "name": "stdout",
     "output_type": "stream",
     "text": [
      "(1, 28, 28)\n",
      "(28, 28, 1)\n",
      "input size : 28x28\n",
      "output size : 25x25\n",
      "(25, 25)\n",
      "(1, 25, 25)\n"
     ]
    },
    {
     "data": {
      "text/plain": [
       "<matplotlib.image.AxesImage at 0x17c53dd60>"
      ]
     },
     "execution_count": 96,
     "metadata": {},
     "output_type": "execute_result"
    },
    {
     "data": {
      "image/png": "[encoded data removed]",
      "text/plain": [
       "<Figure size 432x288 with 1 Axes>"
      ]
     },
     "metadata": {
      "needs_background": "light"
     },
     "output_type": "display_data"
    }
   ],
   "source": [
    "img = train_data[2]\n",
    "temp = resize_affine(img, 0.9)\n",
    "plt.imshow(temp[0,:,:], cmap='gray')"
   ]
  },
  {
   "cell_type": "code",
   "execution_count": 174,
   "metadata": {},
   "outputs": [
    {
     "name": "stdout",
     "output_type": "stream",
     "text": [
      "(1, 28, 28)\n",
      "(28, 28, 1)\n",
      "input size : 28x28\n",
      "output size : 20x20\n",
      "(20, 20)\n",
      "(1, 20, 20)\n",
      "(20, 20)\n",
      "(1, 28, 28)\n"
     ]
    },
    {
     "data": {
      "image/png": "[encoded data removed]",
      "text/plain": [
       "<Figure size 432x288 with 1 Axes>"
      ]
     },
     "metadata": {
      "needs_background": "light"
     },
     "output_type": "display_data"
    }
   ],
   "source": [
    "#paddingして28x28に戻す\n",
    "#(scale,pad)=(0.93,1),(0.86,2),(0.79,3)(0.72, 4)\n",
    "\n",
    "img = train_data[10]\n",
    "img2 = resize_affine(img, 0.72)\n",
    "print(img2[0].shape)\n",
    "img3 = np.pad(img2[0], 4, \"maximum\")\n",
    "plt.imshow(img3, cmap='gray')\n",
    "#消えた一次元目を追加\n",
    "img4 = img3[np.newaxis, :, :]\n",
    "print(img4.shape)"
   ]
  },
  {
   "cell_type": "code",
   "execution_count": 224,
   "metadata": {},
   "outputs": [],
   "source": [
    "# 縮小　and Padding  (93%固定)\n",
    "def reduction_padding(img):\n",
    "    img2 = resize_affine(img, 0.93)\n",
    "    #print(img2[0].shape)\n",
    "    img3 = np.pad(img2[0], 1, \"maximum\")\n",
    "    #plt.imshow(img3, cmap='gray')\n",
    "    #消えた一次元目を追加\n",
    "    img4 = img3[np.newaxis, :, :]\n",
    "\n",
    "    return img4\n",
    "\n",
    "# 縮小　and Padding  (93%, 86%, 79%, 72%) \n",
    "def reduction_padding_rand(img):\n",
    "    red_scale, pad = 0, 0\n",
    "    a = np.random.randint(1,5)\n",
    "    print(a)\n",
    "    if a == 1: red_scale, pad = 0.93, 1\n",
    "    if a == 2: red_scale, pad = 0.86, 2\n",
    "    if a == 3: red_scale, pad = 0.79, 3\n",
    "    if a == 4: red_scale, pad = 0.72, 4\n",
    "\n",
    "    img2 = resize_affine(img, red_scale)\n",
    "    #print(img2[0].shape)\n",
    "    img3 = np.pad(img2[0], pad, \"maximum\")\n",
    "    #plt.imshow(img3, cmap='gray')\n",
    "    #消えた一次元目を追加\n",
    "    img4 = img3[np.newaxis, :, :]\n",
    "\n",
    "    return img4\n",
    "\n",
    "    "
   ]
  },
  {
   "cell_type": "code",
   "execution_count": 253,
   "metadata": {},
   "outputs": [
    {
     "name": "stdout",
     "output_type": "stream",
     "text": [
      "4\n",
      "(1, 20, 20)\n"
     ]
    },
    {
     "data": {
      "text/plain": [
       "<matplotlib.image.AxesImage at 0x280dd5bb0>"
      ]
     },
     "execution_count": 253,
     "metadata": {},
     "output_type": "execute_result"
    },
    {
     "data": {
      "image/png": "[encoded data removed]",
      "text/plain": [
       "<Figure size 432x288 with 1 Axes>"
      ]
     },
     "metadata": {
      "needs_background": "light"
     },
     "output_type": "display_data"
    }
   ],
   "source": [
    "img = train_data[10]\n",
    "img2 = reduction_padding_rand(img)\n",
    "plt.imshow(img2[0], cmap='gray')"
   ]
  },
  {
   "cell_type": "code",
   "execution_count": 112,
   "metadata": {},
   "outputs": [
    {
     "name": "stdout",
     "output_type": "stream",
     "text": [
      "[[0 1 2]\n",
      " [3 4 5]\n",
      " [6 7 8]]\n",
      "[[0 0 0 0 0 0 0]\n",
      " [0 0 0 0 0 0 0]\n",
      " [0 0 0 1 2 0 0]\n",
      " [0 0 3 4 5 0 0]\n",
      " [0 0 6 7 8 0 0]\n",
      " [0 0 0 0 0 0 0]\n",
      " [0 0 0 0 0 0 0]]\n"
     ]
    }
   ],
   "source": [
    "X = np.arange(9).reshape(3,3)\n",
    "print(X)\n",
    "\n",
    "X_pad = np.pad(X, 2) \n",
    "print(X_pad)"
   ]
  },
  {
   "cell_type": "code",
   "execution_count": 7,
   "metadata": {},
   "outputs": [],
   "source": [
    "def random_crop(image, crop_size=(28, 28)):\n",
    "    _, h, w = image.shape\n",
    "    #print(h, w)\n",
    "\n",
    "    # 0~(400-224)の間で画像のtop, leftを決める\n",
    "    top = np.random.randint(0, h - crop_size[0])\n",
    "    left = np.random.randint(0, w - crop_size[1])\n",
    "\n",
    "    # top, leftから画像のサイズである224を足して、bottomとrightを決める\n",
    "    bottom = top + crop_size[0]\n",
    "    right = left + crop_size[1]\n",
    "\n",
    "    # 決めたtop, bottom, left, rightを使って画像を抜き出す\n",
    "    image = image[:, top:bottom, left:right]\n",
    "    return image"
   ]
  },
  {
   "cell_type": "code",
   "execution_count": 86,
   "metadata": {},
   "outputs": [
    {
     "ename": "ValueError",
     "evalue": "high <= 0",
     "output_type": "error",
     "traceback": [
      "\u001b[0;31m---------------------------------------------------------------------------\u001b[0m",
      "\u001b[0;31mValueError\u001b[0m                                Traceback (most recent call last)",
      "\u001b[1;32mセル12 を /Users/sawaki/skill-up-ai/augment_test.ipynb\u001b[0m in \u001b[0;36m<cell line: 2>\u001b[0;34m()\u001b[0m\n\u001b[1;32m      <a href='vscode-notebook-cell:/Users/sawaki/skill-up-ai/augment_test.ipynb#X14sZmlsZQ%3D%3D?line=0'>1</a>\u001b[0m img \u001b[39m=\u001b[39m train_data[\u001b[39m55\u001b[39m]\n\u001b[0;32m----> <a href='vscode-notebook-cell:/Users/sawaki/skill-up-ai/augment_test.ipynb#X14sZmlsZQ%3D%3D?line=1'>2</a>\u001b[0m img2 \u001b[39m=\u001b[39m random_crop(img)\n\u001b[1;32m      <a href='vscode-notebook-cell:/Users/sawaki/skill-up-ai/augment_test.ipynb#X14sZmlsZQ%3D%3D?line=2'>3</a>\u001b[0m plt\u001b[39m.\u001b[39mimshow(img2[\u001b[39m0\u001b[39m,:,:], cmap\u001b[39m=\u001b[39m\u001b[39m'\u001b[39m\u001b[39mgray\u001b[39m\u001b[39m'\u001b[39m)\n",
      "\u001b[1;32mセル12 を /Users/sawaki/skill-up-ai/augment_test.ipynb\u001b[0m in \u001b[0;36mrandom_crop\u001b[0;34m(image, crop_size)\u001b[0m\n\u001b[1;32m      <a href='vscode-notebook-cell:/Users/sawaki/skill-up-ai/augment_test.ipynb#X14sZmlsZQ%3D%3D?line=1'>2</a>\u001b[0m _, h, w \u001b[39m=\u001b[39m image\u001b[39m.\u001b[39mshape\n\u001b[1;32m      <a href='vscode-notebook-cell:/Users/sawaki/skill-up-ai/augment_test.ipynb#X14sZmlsZQ%3D%3D?line=2'>3</a>\u001b[0m \u001b[39m#print(h, w)\u001b[39;00m\n\u001b[1;32m      <a href='vscode-notebook-cell:/Users/sawaki/skill-up-ai/augment_test.ipynb#X14sZmlsZQ%3D%3D?line=3'>4</a>\u001b[0m \n\u001b[1;32m      <a href='vscode-notebook-cell:/Users/sawaki/skill-up-ai/augment_test.ipynb#X14sZmlsZQ%3D%3D?line=4'>5</a>\u001b[0m \u001b[39m# 0~(400-224)の間で画像のtop, leftを決める\u001b[39;00m\n\u001b[0;32m----> <a href='vscode-notebook-cell:/Users/sawaki/skill-up-ai/augment_test.ipynb#X14sZmlsZQ%3D%3D?line=5'>6</a>\u001b[0m top \u001b[39m=\u001b[39m np\u001b[39m.\u001b[39;49mrandom\u001b[39m.\u001b[39;49mrandint(\u001b[39m0\u001b[39;49m, h \u001b[39m-\u001b[39;49m crop_size[\u001b[39m0\u001b[39;49m])\n\u001b[1;32m      <a href='vscode-notebook-cell:/Users/sawaki/skill-up-ai/augment_test.ipynb#X14sZmlsZQ%3D%3D?line=6'>7</a>\u001b[0m left \u001b[39m=\u001b[39m np\u001b[39m.\u001b[39mrandom\u001b[39m.\u001b[39mrandint(\u001b[39m0\u001b[39m, w \u001b[39m-\u001b[39m crop_size[\u001b[39m1\u001b[39m])\n\u001b[1;32m      <a href='vscode-notebook-cell:/Users/sawaki/skill-up-ai/augment_test.ipynb#X14sZmlsZQ%3D%3D?line=8'>9</a>\u001b[0m \u001b[39m# top, leftから画像のサイズである224を足して、bottomとrightを決める\u001b[39;00m\n",
      "File \u001b[0;32mmtrand.pyx:748\u001b[0m, in \u001b[0;36mnumpy.random.mtrand.RandomState.randint\u001b[0;34m()\u001b[0m\n",
      "File \u001b[0;32m_bounded_integers.pyx:1247\u001b[0m, in \u001b[0;36mnumpy.random._bounded_integers._rand_int64\u001b[0;34m()\u001b[0m\n",
      "\u001b[0;31mValueError\u001b[0m: high <= 0"
     ]
    }
   ],
   "source": [
    "img = train_data[55]\n",
    "img2 = random_crop(img)\n",
    "plt.imshow(img2[0,:,:], cmap='gray')"
   ]
  },
  {
   "cell_type": "code",
   "execution_count": 58,
   "metadata": {},
   "outputs": [],
   "source": [
    "from scipy.ndimage.interpolation import rotate\n",
    "\n",
    "def random_rotation(image, angle_range):\n",
    "    _, h, w = image.shape\n",
    "    #print(image.shape, h, w)\n",
    "    angle = np.random.randint(*angle_range)\n",
    "    #print(angle)\n",
    "\n",
    "    image = np.squeeze(image)\n",
    "    #print(image.shape)\n",
    "\n",
    "    image = rotate(image, angle)\n",
    "    #print(image.shape)\n",
    "    \n",
    "    # 1次元目が消えちゃうので追加して元のshape (1, h, w)に戻す\n",
    "    image = image[np.newaxis, :, :]\n",
    "\n",
    "    return image"
   ]
  },
  {
   "cell_type": "code",
   "execution_count": 83,
   "metadata": {},
   "outputs": [
    {
     "data": {
      "text/plain": [
       "<matplotlib.image.AxesImage at 0x17c1503a0>"
      ]
     },
     "execution_count": 83,
     "metadata": {},
     "output_type": "execute_result"
    },
    {
     "data": {
      "image/png": "[encoded data removed]",
      "text/plain": [
       "<Figure size 432x288 with 1 Axes>"
      ]
     },
     "metadata": {
      "needs_background": "light"
     },
     "output_type": "display_data"
    }
   ],
   "source": [
    "img = train_data[55]\n",
    "img2 = random_rotation(img,(-30, 30))\n",
    "plt.imshow(img2[0,:,:], cmap='gray')"
   ]
  },
  {
   "cell_type": "code",
   "execution_count": 45,
   "metadata": {},
   "outputs": [],
   "source": [
    "def rotate_aug(images, angle_range=(-30, 30)):\n",
    "    \"\"\"\n",
    "    input : images (num, 1, 28, 28)\n",
    "    一枚ずつ処理する\n",
    "    \"\"\"\n",
    "    num = len(images)\n",
    "\n",
    "    images2 = np.empty((num,1,28,28)) #出力格納用\n",
    "\n",
    "    for i in range(num):\n",
    "        img = images[i]\n",
    "\n",
    "        img2 = random_rotation(img, angle_range)\n",
    "        if img2.shape[1] != 28:\n",
    "            img3 = random_crop(img2)\n",
    "        else:\n",
    "            img3 = img2    \n",
    "\n",
    "        img4 = np.where(img3 == 0, 1, img3)\n",
    "\n",
    "        images2[i] = img4\n",
    "\n",
    "\n",
    "    \n",
    "\n",
    "    return images2"
   ]
  },
  {
   "cell_type": "code",
   "execution_count": 55,
   "metadata": {},
   "outputs": [
    {
     "data": {
      "text/plain": [
       "<matplotlib.image.AxesImage at 0x17af5c5b0>"
      ]
     },
     "execution_count": 55,
     "metadata": {},
     "output_type": "execute_result"
    },
    {
     "data": {
      "image/png": "[encoded data removed]",
      "text/plain": [
       "<Figure size 432x288 with 1 Axes>"
      ]
     },
     "metadata": {
      "needs_background": "light"
     },
     "output_type": "display_data"
    }
   ],
   "source": [
    "img = train_data[0:100]\n",
    "img2 = rotate_aug(img)\n",
    "plt.imshow(img2[65][0], cmap='gray')\n",
    "#print(img2[85][0])"
   ]
  },
  {
   "cell_type": "code",
   "execution_count": 15,
   "metadata": {},
   "outputs": [
    {
     "data": {
      "text/plain": [
       "<matplotlib.image.AxesImage at 0x17a150af0>"
      ]
     },
     "execution_count": 15,
     "metadata": {},
     "output_type": "execute_result"
    },
    {
     "data": {
      "image/png": "[encoded data removed]",
      "text/plain": [
       "<Figure size 432x288 with 1 Axes>"
      ]
     },
     "metadata": {
      "needs_background": "light"
     },
     "output_type": "display_data"
    }
   ],
   "source": [
    "img = train_data[85]\n",
    "img4 = np.where(img > 0.25 , 1, img)\n",
    "plt.imshow(img4[0], cmap='gray')\n",
    "#print(img4)"
   ]
  },
  {
   "cell_type": "code",
   "execution_count": 941,
   "metadata": {},
   "outputs": [],
   "source": [
    "def random_erasing(image, p=0.5, s=(0.05, 0.3), r=(0.3, 3)):\n",
    "    # マスクするかしないか\n",
    "    if np.random.rand() > p:\n",
    "        return image\n",
    "\n",
    "    image2 = np.copy(image)\n",
    "\n",
    "    # マスクする画素値をランダムで決める\n",
    "    mask_value = np.random.rand()\n",
    "\n",
    "    _, h, w = image2.shape\n",
    "    # マスクのサイズを元画像のs(0.02~0.4)倍の範囲からランダムに決める\n",
    "    mask_area = np.random.randint(h * w * s[0], h * w * s[1])\n",
    "\n",
    "    # マスクのアスペクト比をr(0.3~3)の範囲からランダムに決める\n",
    "    mask_aspect_ratio = np.random.rand() * r[1] + r[0]\n",
    "\n",
    "    # マスクのサイズとアスペクト比からマスクの高さと幅を決める\n",
    "    # 算出した高さと幅(のどちらか)が元画像より大きくなることがあるので修正する\n",
    "    mask_height = int(np.sqrt(mask_area / mask_aspect_ratio))\n",
    "    if mask_height > h - 1:\n",
    "        mask_height = h - 1\n",
    "    mask_width = int(mask_aspect_ratio * mask_height)\n",
    "    if mask_width > w - 1:\n",
    "        mask_width = w - 1\n",
    "\n",
    "    top = np.random.randint(0, h - mask_height)\n",
    "    left = np.random.randint(0, w - mask_width)\n",
    "    bottom = top + mask_height\n",
    "    right = left + mask_width\n",
    "\n",
    "    #print(mask_value)\n",
    "    #print(top, bottom, left, right)\n",
    "    #print(image2.shape, type(image2))\n",
    "    image2[0, top:bottom, left:right].fill(mask_value)\n",
    "\n",
    "    #image2[0, 10:20, 10:20].fill(mask_value)\n",
    "    return image2"
   ]
  },
  {
   "cell_type": "code",
   "execution_count": 935,
   "metadata": {},
   "outputs": [
    {
     "name": "stdout",
     "output_type": "stream",
     "text": [
      "(1, 28, 28) <class 'numpy.ndarray'>\n",
      "0.49920851848127445\n",
      "0 14 10 24\n",
      "(1, 28, 28) <class 'numpy.ndarray'>\n"
     ]
    },
    {
     "data": {
      "text/plain": [
       "<matplotlib.image.AxesImage at 0x29c6f0b20>"
      ]
     },
     "execution_count": 935,
     "metadata": {},
     "output_type": "execute_result"
    },
    {
     "data": {
      "image/png": "[encoded data removed]",
      "text/plain": [
       "<Figure size 432x288 with 1 Axes>"
      ]
     },
     "metadata": {
      "needs_background": "light"
     },
     "output_type": "display_data"
    }
   ],
   "source": [
    "img = train_data[13]\n",
    "print(img.shape, type(img))\n",
    "img2 = random_erasing(img)\n",
    "plt.imshow(img2[0], cmap='gray')\n",
    "#print(img2)"
   ]
  },
  {
   "cell_type": "code",
   "execution_count": 880,
   "metadata": {},
   "outputs": [
    {
     "data": {
      "text/plain": [
       "<matplotlib.image.AxesImage at 0x29a284370>"
      ]
     },
     "execution_count": 880,
     "metadata": {},
     "output_type": "execute_result"
    },
    {
     "data": {
      "image/png": "[encoded data removed]",
      "text/plain": [
       "<Figure size 432x288 with 1 Axes>"
      ]
     },
     "metadata": {
      "needs_background": "light"
     },
     "output_type": "display_data"
    }
   ],
   "source": [
    "plt.imshow(train_data[13][0], cmap='gray')"
   ]
  },
  {
   "cell_type": "code",
   "execution_count": 674,
   "metadata": {},
   "outputs": [
    {
     "data": {
      "text/plain": [
       "<matplotlib.image.AxesImage at 0x17f4a3280>"
      ]
     },
     "execution_count": 674,
     "metadata": {},
     "output_type": "execute_result"
    },
    {
     "data": {
      "image/png": "[encoded data removed]",
      "text/plain": [
       "<Figure size 432x288 with 1 Axes>"
      ]
     },
     "metadata": {
      "needs_background": "light"
     },
     "output_type": "display_data"
    }
   ],
   "source": [
    "img = train_data[85]\n",
    "#img2 = random_erasing(img)\n",
    "plt.imshow(img[0], cmap='gray')"
   ]
  },
  {
   "cell_type": "code",
   "execution_count": 942,
   "metadata": {},
   "outputs": [],
   "source": [
    "def rotate_aug(images, angle_range=(-15, 15)):\n",
    "    \"\"\"\n",
    "    input : images (num, 1, 28, 28)\n",
    "    一枚ずつ処理する\n",
    "    \"\"\"\n",
    "    num = len(images)\n",
    "    print(num)\n",
    "    \n",
    "    images2 = np.empty((num,1,28,28)) #出力格納用\n",
    "\n",
    "    for i in range(num):\n",
    "        img = np.copy(images[i])\n",
    "\n",
    "        img2 = random_rotation(img, angle_range)\n",
    "        if img2.shape[1] != 28:\n",
    "            img3 = random_crop(img2)\n",
    "            img4 = random_erasing(img3)\n",
    "        else:\n",
    "            img4 = img2    \n",
    "\n",
    "        img5 = np.where(img4 == 0, 1, img4)\n",
    "\n",
    "        #クッキリモード\n",
    "        #img4 = np.where(img4 > 0.25 , 1, img4)\n",
    "\n",
    "        images2[i] = img5\n",
    "\n",
    "    return images2"
   ]
  },
  {
   "cell_type": "code",
   "execution_count": 975,
   "metadata": {},
   "outputs": [
    {
     "name": "stdout",
     "output_type": "stream",
     "text": [
      "5\n",
      "(5, 1, 28, 28)\n"
     ]
    },
    {
     "data": {
      "text/plain": [
       "<matplotlib.image.AxesImage at 0x2a1214190>"
      ]
     },
     "execution_count": 975,
     "metadata": {},
     "output_type": "execute_result"
    },
    {
     "data": {
      "image/png": "[encoded data removed]",
      "text/plain": [
       "<Figure size 432x288 with 1 Axes>"
      ]
     },
     "metadata": {
      "needs_background": "light"
     },
     "output_type": "display_data"
    }
   ],
   "source": [
    "a = train_data[10:15]\n",
    "b = rotate_aug(a)\n",
    "print(b.shape)\n",
    "plt.imshow(b[0][0], cmap='gray')"
   ]
  }
 ],
 "metadata": {
  "kernelspec": {
   "display_name": "Python 3.8.13 ('pose')",
   "language": "python",
   "name": "python3"
  },
  "language_info": {
   "codemirror_mode": {
    "name": "ipython",
    "version": 3
   },
   "file_extension": ".py",
   "mimetype": "text/x-python",
   "name": "python",
   "nbconvert_exporter": "python",
   "pygments_lexer": "ipython3",
   "version": "3.8.13"
  },
  "orig_nbformat": 4,
  "vscode": {
   "interpreter": {
    "hash": "7baf39d11e8c78c14b0cd083923d6b37471a1e9215060b64c4b700e4d68de6e5"
   }
  }
 },
 "nbformat": 4,
 "nbformat_minor": 2
}
